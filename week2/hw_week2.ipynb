{
 "cells": [
  {
   "cell_type": "markdown",
   "metadata": {},
   "source": [
    "## 第一題：猜數字遊戲\n",
    "\n",
    "題目說明：   \n",
    "電腦由1到100想一個數字，你開始猜電腦想的數字   \n",
    "太大或太小電腦會告訴你，直到你猜對"
   ]
  },
  {
   "cell_type": "code",
   "execution_count": 12,
   "metadata": {
    "collapsed": true
   },
   "outputs": [],
   "source": [
    "import numpy as np"
   ]
  },
  {
   "cell_type": "code",
   "execution_count": 17,
   "metadata": {
    "collapsed": false
   },
   "outputs": [
    {
     "data": {
      "text/plain": [
       "array([3, 5, 2, 9, 1, 2, 5, 6, 5, 8, 7, 7, 9, 8, 3, 5, 5, 8, 4, 9])"
      ]
     },
     "execution_count": 17,
     "metadata": {},
     "output_type": "execute_result"
    }
   ],
   "source": [
    "# 測試numpy.random.randint\n",
    "# numpy.random.randint(1,10)\n",
    "# 不會取到10這個數\n",
    "np.random.randint(1,10,20)"
   ]
  },
  {
   "cell_type": "code",
   "execution_count": 18,
   "metadata": {
    "collapsed": true
   },
   "outputs": [],
   "source": [
    "def guess_number():\n",
    "    answer = float(np.random.randint(1,101))\n",
    "    print(\"請從1到100猜出一個數字\")\n",
    "    guess = 0\n",
    "    \n",
    "    while guess != answer:\n",
    "        guess = float(input(\"輸入一個數字>> \"))\n",
    "        \n",
    "        if guess > answer:\n",
    "            print(\"你猜得數字太大囉！\")\n",
    "        elif guess < answer:\n",
    "            print(\"你猜的數字太小囉！\")\n",
    "        \n",
    "    print(\"恭喜答對～～～\")"
   ]
  },
  {
   "cell_type": "code",
   "execution_count": 19,
   "metadata": {
    "collapsed": false
   },
   "outputs": [
    {
     "name": "stdout",
     "output_type": "stream",
     "text": [
      "請從1到100猜出一個數字\n",
      "輸入一個數字>> 10\n",
      "你猜得數字太大囉！\n",
      "輸入一個數字>> 9\n",
      "你猜得數字太大囉！\n",
      "輸入一個數字>> 8\n",
      "你猜得數字太大囉！\n",
      "輸入一個數字>> 7\n",
      "你猜得數字太大囉！\n",
      "輸入一個數字>> 6\n",
      "你猜得數字太大囉！\n",
      "輸入一個數字>> 5\n",
      "恭喜答對～～～\n"
     ]
    }
   ],
   "source": [
    "guess_number()"
   ]
  },
  {
   "cell_type": "markdown",
   "metadata": {},
   "source": [
    "## 第二題：感恩讚嘆機器人\n",
    "\n",
    "題目說明：   \n",
    "請依照老師本週影片的做法  \n",
    "製作出感恩讚嘆機器人   \n",
    "也就是回應的格式一律是：   \n",
    "「感恩〇〇，讚嘆〇〇。」\n",
    "\n",
    "範例：   \n",
    "「嗨，今天天氣很好，要一起去洞爺湖喝茶吃魚嗎？」   \n",
    "『感恩炎龍，讚嘆炎龍。』"
   ]
  },
  {
   "cell_type": "code",
   "execution_count": 23,
   "metadata": {
    "collapsed": false
   },
   "outputs": [],
   "source": [
    "def pipi():\n",
    "    print(\"輸入bye離開聊天\")\n",
    "    name = input(\"輸入一個名字\")\n",
    "    user_input = \" \"\n",
    "    \n",
    "    while user_input :\n",
    "        user_input = input()\n",
    "\n",
    "        if user_input == \"bye\":\n",
    "            print(\"bye bye 很高興跟您聊天\")\n",
    "            break;\n",
    "        else:\n",
    "            print(\"感恩{}，讚嘆{}。\".format(name,name))"
   ]
  },
  {
   "cell_type": "code",
   "execution_count": 24,
   "metadata": {
    "collapsed": false
   },
   "outputs": [
    {
     "name": "stdout",
     "output_type": "stream",
     "text": [
      "輸入bye離開聊天\n",
      "輸入一個名字魯夫\n",
      "嗨\n",
      "感恩魯夫，讚嘆魯夫。\n",
      "你好\n",
      "感恩魯夫，讚嘆魯夫。\n",
      "9487\n",
      "感恩魯夫，讚嘆魯夫。\n",
      "bye\n",
      "bye bye 很高興跟您聊天\n"
     ]
    }
   ],
   "source": [
    "pipi()"
   ]
  },
  {
   "cell_type": "markdown",
   "metadata": {},
   "source": [
    "## 第三題：寫個函數讓字串倒過來排\n",
    "\n",
    "題目說明：   \n",
    "寫一個函數，比如說reverse，   \n",
    "然後輸入一個字串   \n",
    "st = \"Hello\"   \n",
    "reverse(\"Hello\")   \n",
    "就回傳下面這個字串   \n",
    "\"olleH\""
   ]
  },
  {
   "cell_type": "code",
   "execution_count": 26,
   "metadata": {
    "collapsed": false
   },
   "outputs": [
    {
     "name": "stdout",
     "output_type": "stream",
     "text": [
      "cba\n"
     ]
    }
   ],
   "source": [
    "test = \"abc\"\n",
    "test = test[::-1]\n",
    "print(test)"
   ]
  },
  {
   "cell_type": "code",
   "execution_count": 27,
   "metadata": {
    "collapsed": true
   },
   "outputs": [],
   "source": [
    "def reverse(input_string):\n",
    "    input_string = input_string[::-1]\n",
    "    \n",
    "    return input_string"
   ]
  },
  {
   "cell_type": "code",
   "execution_count": 29,
   "metadata": {
    "collapsed": false
   },
   "outputs": [
    {
     "data": {
      "text/plain": [
       "'olleH'"
      ]
     },
     "execution_count": 29,
     "metadata": {},
     "output_type": "execute_result"
    }
   ],
   "source": [
    "st = \"Hello\"\n",
    "reverse(st)"
   ]
  },
  {
   "cell_type": "markdown",
   "metadata": {},
   "source": [
    "## 挑戰題一：天干地支\n",
    "\n",
    "題目說明：   \n",
    "年份是用天干地支   \n",
    "天干：甲乙丙丁戊己庚辛壬癸   \n",
    "地支：子丑寅卯辰巳午未申酉戌亥   \n",
    "2014是甲午年   \n",
    "2015是乙未年   \n",
    "...   \n",
    "輸出2014到2073年是什麼年"
   ]
  },
  {
   "cell_type": "code",
   "execution_count": 31,
   "metadata": {
    "collapsed": false,
    "scrolled": true
   },
   "outputs": [
    {
     "name": "stdout",
     "output_type": "stream",
     "text": [
      "2014\n",
      "2015\n",
      "2016\n",
      "2017\n"
     ]
    }
   ],
   "source": [
    "# test range()\n",
    "for i in range(2014,2018):\n",
    "    print(i)"
   ]
  },
  {
   "cell_type": "code",
   "execution_count": 33,
   "metadata": {
    "collapsed": false
   },
   "outputs": [
    {
     "name": "stdout",
     "output_type": "stream",
     "text": [
      "2014是甲午年\n",
      "2015是乙未年\n",
      "2016是丙申年\n",
      "2017是丁酉年\n",
      "2018是戊戌年\n",
      "2019是己亥年\n",
      "2020是庚子年\n",
      "2021是辛丑年\n",
      "2022是壬寅年\n",
      "2023是癸卯年\n",
      "2024是甲辰年\n",
      "2025是乙巳年\n",
      "2026是丙午年\n",
      "2027是丁未年\n",
      "2028是戊申年\n",
      "2029是己酉年\n",
      "2030是庚戌年\n",
      "2031是辛亥年\n",
      "2032是壬子年\n",
      "2033是癸丑年\n",
      "2034是甲寅年\n",
      "2035是乙卯年\n",
      "2036是丙辰年\n",
      "2037是丁巳年\n",
      "2038是戊午年\n",
      "2039是己未年\n",
      "2040是庚申年\n",
      "2041是辛酉年\n",
      "2042是壬戌年\n",
      "2043是癸亥年\n",
      "2044是甲子年\n",
      "2045是乙丑年\n",
      "2046是丙寅年\n",
      "2047是丁卯年\n",
      "2048是戊辰年\n",
      "2049是己巳年\n",
      "2050是庚午年\n",
      "2051是辛未年\n",
      "2052是壬申年\n",
      "2053是癸酉年\n",
      "2054是甲戌年\n",
      "2055是乙亥年\n",
      "2056是丙子年\n",
      "2057是丁丑年\n",
      "2058是戊寅年\n",
      "2059是己卯年\n",
      "2060是庚辰年\n",
      "2061是辛巳年\n",
      "2062是壬午年\n",
      "2063是癸未年\n",
      "2064是甲申年\n",
      "2065是乙酉年\n",
      "2066是丙戌年\n",
      "2067是丁亥年\n",
      "2068是戊子年\n",
      "2069是己丑年\n",
      "2070是庚寅年\n",
      "2071是辛卯年\n",
      "2072是壬辰年\n",
      "2073是癸巳年\n"
     ]
    }
   ],
   "source": [
    "# year1天干\n",
    "# year2地支\n",
    "year1 = list(\"甲乙丙丁戊己庚辛壬癸\")\n",
    "year2 = list(\"子丑寅卯辰巳午未申酉戌亥\")\n",
    "\n",
    "# 2014年\n",
    "# y1,y2是index\n",
    "y1 = 0\n",
    "y2 = 6\n",
    "\n",
    "for year in range(2014,2074):\n",
    "    \n",
    "    if y1 > len(year1)-1:\n",
    "        y1 = 0\n",
    "        \n",
    "    if y2 > len(year2)-1:\n",
    "        y2 = 0\n",
    "        \n",
    "    print(\"{}是{}{}年\".format(year,year1[y1],year2[y2]))\n",
    "    \n",
    "    y1 = y1+1\n",
    "    y2 = y2+1"
   ]
  },
  {
   "cell_type": "markdown",
   "metadata": {},
   "source": [
    "## 挑戰題二：我有一顆樹\n",
    "\n",
    "題目說明：   \n",
    "寫一個tree函數   \n",
    "給一個數字就會出現下面結果   \n",
    "![image](week2-1.png)"
   ]
  },
  {
   "cell_type": "code",
   "execution_count": 130,
   "metadata": {
    "collapsed": false
   },
   "outputs": [],
   "source": [
    "def tree(n):\n",
    "    \n",
    "    num_space = list(range(n+1))\n",
    "    num_space = num_space[::-1]\n",
    "    \n",
    "    for i in range(1, n+1):\n",
    "        num_star = 2*i - 1\n",
    "        space = num_space[i]\n",
    "        print(\" \"*space+\"*\"*num_star)\n",
    "        "
   ]
  },
  {
   "cell_type": "code",
   "execution_count": 131,
   "metadata": {
    "collapsed": false
   },
   "outputs": [
    {
     "name": "stdout",
     "output_type": "stream",
     "text": [
      "  *\n",
      " ***\n",
      "*****\n"
     ]
    }
   ],
   "source": [
    "tree(3)"
   ]
  },
  {
   "cell_type": "code",
   "execution_count": 132,
   "metadata": {
    "collapsed": false
   },
   "outputs": [
    {
     "name": "stdout",
     "output_type": "stream",
     "text": [
      "      *\n",
      "     ***\n",
      "    *****\n",
      "   *******\n",
      "  *********\n",
      " ***********\n",
      "*************\n"
     ]
    }
   ],
   "source": [
    "tree(7)"
   ]
  },
  {
   "cell_type": "code",
   "execution_count": null,
   "metadata": {
    "collapsed": true
   },
   "outputs": [],
   "source": []
  }
 ],
 "metadata": {
  "kernelspec": {
   "display_name": "Python 3",
   "language": "python",
   "name": "python3"
  },
  "language_info": {
   "codemirror_mode": {
    "name": "ipython",
    "version": 3
   },
   "file_extension": ".py",
   "mimetype": "text/x-python",
   "name": "python",
   "nbconvert_exporter": "python",
   "pygments_lexer": "ipython3",
   "version": "3.6.0"
  }
 },
 "nbformat": 4,
 "nbformat_minor": 2
}
