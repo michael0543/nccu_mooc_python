{
 "cells": [
  {
   "cell_type": "markdown",
   "metadata": {},
   "source": [
    "## 第一題\n",
    "\n",
    "題目說明：   \n",
    "給定一個矩陣m，裡面的值都大於0。   \n",
    "請將矩陣m裡大於等於1的數字都變成1，小於1的變成0。   \n",
    "\n",
    "```{python}\n",
    "m = np.array([[0,1,10],[2,6,7]])\n",
    "```\n",
    "\n",
    "### Hint：\n",
    "* 使用巢狀迴圈(nested loop)加判斷式"
   ]
  },
  {
   "cell_type": "code",
   "execution_count": 70,
   "metadata": {
    "collapsed": true
   },
   "outputs": [],
   "source": [
    "import numpy as np"
   ]
  },
  {
   "cell_type": "code",
   "execution_count": 71,
   "metadata": {
    "collapsed": true
   },
   "outputs": [],
   "source": [
    "m = np.array([[0, 1, 10], [2, 6, 7]])"
   ]
  },
  {
   "cell_type": "code",
   "execution_count": 83,
   "metadata": {
    "collapsed": false
   },
   "outputs": [
    {
     "data": {
      "text/plain": [
       "array([[ 0,  1, 10],\n",
       "       [ 2,  6,  7]])"
      ]
     },
     "execution_count": 83,
     "metadata": {},
     "output_type": "execute_result"
    }
   ],
   "source": [
    "m"
   ]
  },
  {
   "cell_type": "code",
   "execution_count": 73,
   "metadata": {
    "collapsed": false
   },
   "outputs": [
    {
     "data": {
      "text/plain": [
       "array([2, 6, 7])"
      ]
     },
     "execution_count": 73,
     "metadata": {},
     "output_type": "execute_result"
    }
   ],
   "source": [
    "m[1]"
   ]
  },
  {
   "cell_type": "code",
   "execution_count": 88,
   "metadata": {
    "collapsed": true
   },
   "outputs": [],
   "source": [
    "def trans(matrix):\n",
    "    # 建立一個0矩陣來存放\n",
    "    keep_matrix = np.zeros(shape=(2,3))\n",
    "    \n",
    "    # nested loop\n",
    "    for i in range(matrix.shape[0]):\n",
    "        for j in range(matrix.shape[1]):\n",
    "            if matrix[i][j] >= 1:\n",
    "                keep_matrix[i][j] = 1\n",
    "            else:\n",
    "                keep_matrix[i][j] = 0\n",
    "    \n",
    "    return keep_matrix"
   ]
  },
  {
   "cell_type": "code",
   "execution_count": 89,
   "metadata": {
    "collapsed": false
   },
   "outputs": [
    {
     "data": {
      "text/plain": [
       "array([[ 0.,  1.,  1.],\n",
       "       [ 1.,  1.,  1.]])"
      ]
     },
     "execution_count": 89,
     "metadata": {},
     "output_type": "execute_result"
    }
   ],
   "source": [
    "trans(m)"
   ]
  },
  {
   "cell_type": "markdown",
   "metadata": {},
   "source": [
    "## 第二題\n",
    "\n",
    "題目說明：  \n",
    "有A，B，C三個班級，每班皆有10個學生，期中考結束後，老師希望計算各班級每位學生的加權平均成績   \n",
    "\n",
    "請隨機產生3個班級的成績單，每班10人，共5科   \n",
    "weights=[0.25,0.25,0.25,0.15,0.10]   \n",
    "請算出班級加權平均成績，並以一個array輸出"
   ]
  },
  {
   "cell_type": "code",
   "execution_count": 1,
   "metadata": {
    "collapsed": true
   },
   "outputs": [],
   "source": [
    "import numpy as np"
   ]
  },
  {
   "cell_type": "code",
   "execution_count": 5,
   "metadata": {
    "collapsed": false
   },
   "outputs": [],
   "source": [
    "class_a = np.random.randint(0, 101, size=(10,5))"
   ]
  },
  {
   "cell_type": "code",
   "execution_count": 7,
   "metadata": {
    "collapsed": false
   },
   "outputs": [
    {
     "data": {
      "text/plain": [
       "array([[ 99,  30,  74,  39,  37],\n",
       "       [ 65,  70,   4,  62,  49],\n",
       "       [ 97,  30,  91,  21,  74],\n",
       "       [ 84, 100,   7,  13,  33],\n",
       "       [ 87,  61,  66,  18,  82],\n",
       "       [ 60,  55,  48,  23,  24],\n",
       "       [ 48,  13,  55,  39,  71],\n",
       "       [ 31,  59,  97,  57,  10],\n",
       "       [ 73,  70,   9,  82,  73],\n",
       "       [ 95,  37,  79,  92,  95]])"
      ]
     },
     "execution_count": 7,
     "metadata": {},
     "output_type": "execute_result"
    }
   ],
   "source": [
    "# 查看class_a\n",
    "# 10 students , 5 subject\n",
    "class_a"
   ]
  },
  {
   "cell_type": "code",
   "execution_count": 8,
   "metadata": {
    "collapsed": true
   },
   "outputs": [],
   "source": [
    "class_b = np.random.randint(0, 101, size=(10,5))\n",
    "class_c = np.random.randint(0, 101, size=(10,5))"
   ]
  },
  {
   "cell_type": "code",
   "execution_count": 94,
   "metadata": {
    "collapsed": true
   },
   "outputs": [],
   "source": [
    "def cal_score(class_score):\n",
    "    weights = np.array([0.25, 0.25, 0.25, 0.15, 0.10])\n",
    "    \n",
    "    # 每位同學的加權分數\n",
    "    # array\n",
    "    score = np.dot(class_score, weights)\n",
    "    \n",
    "    # 一個班級的平均成績\n",
    "    # float\n",
    "    average = np.mean(score)\n",
    "    \n",
    "    #班級平均四捨五入\n",
    "    return (score, np.around(average,))"
   ]
  },
  {
   "cell_type": "code",
   "execution_count": 95,
   "metadata": {
    "collapsed": false
   },
   "outputs": [
    {
     "data": {
      "text/plain": [
       "(array([ 60.3 ,  48.95,  65.05,  53.  ,  64.4 ,  46.6 ,  41.95,  56.3 ,\n",
       "         57.6 ,  76.05]), 57.0)"
      ]
     },
     "execution_count": 95,
     "metadata": {},
     "output_type": "execute_result"
    }
   ],
   "source": [
    "cal_score(class_a)"
   ]
  },
  {
   "cell_type": "code",
   "execution_count": 96,
   "metadata": {
    "collapsed": false
   },
   "outputs": [
    {
     "data": {
      "text/plain": [
       "(array([ 59.4 ,  50.9 ,  36.15,  45.6 ,  49.9 ,  48.7 ,  65.85,  65.35,\n",
       "         21.35,  58.05]), 50.0)"
      ]
     },
     "execution_count": 96,
     "metadata": {},
     "output_type": "execute_result"
    }
   ],
   "source": [
    "cal_score(class_b)"
   ]
  },
  {
   "cell_type": "code",
   "execution_count": 97,
   "metadata": {
    "collapsed": false
   },
   "outputs": [
    {
     "data": {
      "text/plain": [
       "(array([ 58.7 ,  71.3 ,  52.15,  35.1 ,  51.8 ,  42.6 ,  47.9 ,  29.05,\n",
       "         19.  ,  66.05]), 47.0)"
      ]
     },
     "execution_count": 97,
     "metadata": {},
     "output_type": "execute_result"
    }
   ],
   "source": [
    "cal_score(class_c)"
   ]
  },
  {
   "cell_type": "markdown",
   "metadata": {},
   "source": [
    "## 挑戰題一\n",
    "\n",
    "題目說明：   \n",
    "請定義一個全班高微成績的函式，輸入是一個(3, 30, 3)的array   \n",
    "表示3個班級中30位學生的成績(小考，期中考，期末考)   \n",
    "目標輸出則是一個(3, 30, 1)的array，表示所有學生的期末成績  \n",
    "\n",
    "成績計算方式如下：\n",
    "1. 小考20%，期中考35%，期末考45%   \n",
    "2. 期中考40%，期末考60%   \n",
    "擇優作為學期成績\n",
    "\n",
    "### Hint：\n",
    "* 可以用雙重for迴圈 分別跑過班級跟人\n",
    "* 可以先設一個array裝算出來的成績\n",
    "* 記得要用return\n",
    "* 請做個測試，檢驗你的結果，方便同學評分\n"
   ]
  },
  {
   "cell_type": "code",
   "execution_count": 98,
   "metadata": {
    "collapsed": true
   },
   "outputs": [],
   "source": [
    "import numpy as np"
   ]
  },
  {
   "cell_type": "code",
   "execution_count": 99,
   "metadata": {
    "collapsed": true
   },
   "outputs": [],
   "source": [
    "class_score = np.random.randint(0, 101, size=(3,30,3))"
   ]
  },
  {
   "cell_type": "code",
   "execution_count": 107,
   "metadata": {
    "collapsed": false
   },
   "outputs": [],
   "source": [
    "def cal_grade(scores):\n",
    "    # 儲存最後的輸出\n",
    "    result_score = np.zeros(shape=(3,30,1))\n",
    "    \n",
    "    \n",
    "    # 先取出每個每個班級\n",
    "    # class number -> 0,1,2\n",
    "    for class_number in range(scores.shape[0]):\n",
    "        \n",
    "        # 取出每個學生\n",
    "        # student -> 0,1,2,....,29\n",
    "        for student in range(scores.shape[1]):\n",
    "            quiz    = scores[class_number][student][0]\n",
    "            midterm = scores[class_number][student][1]\n",
    "            final   = scores[class_number][student][2]\n",
    "            \n",
    "            formula_1 = quiz*0.2 + midterm*0.35 + final*0.45\n",
    "            formula_2 = midterm*0.4 + final*0.6\n",
    "            \n",
    "            if formula_1 > formula_2:\n",
    "                result_score[class_number][student] = formula_1\n",
    "            else:\n",
    "                result_score[class_number][student] = formula_2\n",
    "                \n",
    "    return result_score"
   ]
  },
  {
   "cell_type": "code",
   "execution_count": 108,
   "metadata": {
    "collapsed": false
   },
   "outputs": [
    {
     "data": {
      "text/plain": [
       "array([[[ 51.6 ],\n",
       "        [ 68.6 ],\n",
       "        [ 60.  ],\n",
       "        [ 56.  ],\n",
       "        [ 31.65],\n",
       "        [ 81.95],\n",
       "        [ 37.6 ],\n",
       "        [ 51.85],\n",
       "        [ 72.6 ],\n",
       "        [ 35.  ],\n",
       "        [ 53.8 ],\n",
       "        [ 32.  ],\n",
       "        [ 25.8 ],\n",
       "        [ 29.2 ],\n",
       "        [ 72.4 ],\n",
       "        [ 68.8 ],\n",
       "        [ 45.4 ],\n",
       "        [ 76.2 ],\n",
       "        [ 16.6 ],\n",
       "        [ 69.  ],\n",
       "        [ 40.55],\n",
       "        [ 17.8 ],\n",
       "        [ 21.3 ],\n",
       "        [ 49.85],\n",
       "        [ 45.  ],\n",
       "        [ 71.2 ],\n",
       "        [ 32.25],\n",
       "        [ 43.  ],\n",
       "        [ 74.4 ],\n",
       "        [ 55.2 ]],\n",
       "\n",
       "       [[ 87.6 ],\n",
       "        [ 75.6 ],\n",
       "        [ 38.3 ],\n",
       "        [ 34.6 ],\n",
       "        [ 99.2 ],\n",
       "        [ 71.  ],\n",
       "        [ 57.45],\n",
       "        [ 59.15],\n",
       "        [ 18.45],\n",
       "        [ 35.45],\n",
       "        [ 57.55],\n",
       "        [ 35.8 ],\n",
       "        [ 57.6 ],\n",
       "        [ 41.05],\n",
       "        [ 84.  ],\n",
       "        [ 19.95],\n",
       "        [ 63.35],\n",
       "        [ 39.4 ],\n",
       "        [ 74.2 ],\n",
       "        [ 20.75],\n",
       "        [ 49.55],\n",
       "        [ 53.4 ],\n",
       "        [ 74.4 ],\n",
       "        [ 18.4 ],\n",
       "        [ 61.  ],\n",
       "        [ 27.7 ],\n",
       "        [ 45.8 ],\n",
       "        [ 73.4 ],\n",
       "        [ 35.8 ],\n",
       "        [ 74.4 ]],\n",
       "\n",
       "       [[ 47.8 ],\n",
       "        [ 64.  ],\n",
       "        [ 76.  ],\n",
       "        [ 59.4 ],\n",
       "        [ 28.1 ],\n",
       "        [ 12.8 ],\n",
       "        [ 22.65],\n",
       "        [ 49.8 ],\n",
       "        [ 31.  ],\n",
       "        [ 80.8 ],\n",
       "        [ 36.6 ],\n",
       "        [ 34.6 ],\n",
       "        [ 45.45],\n",
       "        [ 48.2 ],\n",
       "        [ 68.8 ],\n",
       "        [ 55.6 ],\n",
       "        [ 32.4 ],\n",
       "        [ 63.7 ],\n",
       "        [ 49.8 ],\n",
       "        [ 69.4 ],\n",
       "        [ 91.  ],\n",
       "        [ 75.6 ],\n",
       "        [ 62.8 ],\n",
       "        [ 36.25],\n",
       "        [ 13.65],\n",
       "        [ 39.2 ],\n",
       "        [ 78.25],\n",
       "        [ 33.4 ],\n",
       "        [ 73.8 ],\n",
       "        [ 28.85]]])"
      ]
     },
     "execution_count": 108,
     "metadata": {},
     "output_type": "execute_result"
    }
   ],
   "source": [
    "cal_grade(class_score)"
   ]
  },
  {
   "cell_type": "code",
   "execution_count": 109,
   "metadata": {
    "collapsed": true
   },
   "outputs": [],
   "source": [
    "# 檢驗一個班的成績\n",
    "def test(a_class_score):\n",
    "    \n",
    "    weight_1 = np.array([0.20, 0.35, 0.45])\n",
    "    weight_2 = np.array([0   , 0.40, 0.60])\n",
    "    \n",
    "    formula_1 = np.dot(a_class_score, weight_1)\n",
    "    formula_2 = np.dot(a_class_score, weight_2)\n",
    "    \n",
    "    result = np.where(formula_1>formula_2, formula_1, formula_2)\n",
    "    \n",
    "    return result"
   ]
  },
  {
   "cell_type": "code",
   "execution_count": 113,
   "metadata": {
    "collapsed": false
   },
   "outputs": [
    {
     "data": {
      "text/plain": [
       "array([ 51.6 ,  68.6 ,  60.  ,  56.  ,  31.65,  81.95,  37.6 ,  51.85,\n",
       "        72.6 ,  35.  ,  53.8 ,  32.  ,  25.8 ,  29.2 ,  72.4 ,  68.8 ,\n",
       "        45.4 ,  76.2 ,  16.6 ,  69.  ,  40.55,  17.8 ,  21.3 ,  49.85,\n",
       "        45.  ,  71.2 ,  32.25,  43.  ,  74.4 ,  55.2 ])"
      ]
     },
     "execution_count": 113,
     "metadata": {},
     "output_type": "execute_result"
    }
   ],
   "source": [
    "class_1 = class_score[0]\n",
    "test(class_1)"
   ]
  },
  {
   "cell_type": "code",
   "execution_count": null,
   "metadata": {
    "collapsed": true
   },
   "outputs": [],
   "source": []
  }
 ],
 "metadata": {
  "kernelspec": {
   "display_name": "Python 3",
   "language": "python",
   "name": "python3"
  },
  "language_info": {
   "codemirror_mode": {
    "name": "ipython",
    "version": 3
   },
   "file_extension": ".py",
   "mimetype": "text/x-python",
   "name": "python",
   "nbconvert_exporter": "python",
   "pygments_lexer": "ipython3",
   "version": "3.6.0"
  }
 },
 "nbformat": 4,
 "nbformat_minor": 2
}
