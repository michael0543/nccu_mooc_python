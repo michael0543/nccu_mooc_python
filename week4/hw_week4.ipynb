{
 "cells": [
  {
   "cell_type": "markdown",
   "metadata": {},
   "source": [
    "## 第一題 抽點系統\n",
    "\n",
    "題目說明：   \n",
    "老師想做一個抽點系統, 也就是按一個鍵就抽一位同學出來。   \n",
    "某班同學有大雄、胖虎、小夫、宜靜、小杉。  \n",
    "請幫老師寫一個抽點系統出來\n",
    "\n",
    "### Hint：\n",
    "* interact_manual 用到的函數可以不用有任何參數\n",
    "* np.random.choice 會從一個 list 隨機取一個元素出來"
   ]
  },
  {
   "cell_type": "code",
   "execution_count": 1,
   "metadata": {
    "collapsed": true
   },
   "outputs": [],
   "source": [
    "import numpy as np\n",
    "from ipywidgets import interact_manual"
   ]
  },
  {
   "cell_type": "code",
   "execution_count": 6,
   "metadata": {
    "collapsed": true
   },
   "outputs": [],
   "source": [
    "def choose():\n",
    "    class_member = [\"大雄\", \"胖虎\", \"小夫\", \"宜靜\", \"小杉\"]\n",
    "    result = np.random.choice(class_member)\n",
    "    print(result)"
   ]
  },
  {
   "cell_type": "code",
   "execution_count": 8,
   "metadata": {
    "collapsed": false
   },
   "outputs": [
    {
     "name": "stdout",
     "output_type": "stream",
     "text": [
      "大雄\n"
     ]
    }
   ],
   "source": [
    "interact_manual(choose)"
   ]
  },
  {
   "cell_type": "markdown",
   "metadata": {},
   "source": [
    "## 第二題 變長變短\n",
    "\n",
    "題目說明：   \n",
    "做一個數值滑桿, 數字變大某個 bar 就變長或變短。   \n",
    "bar = \"■\"  \n",
    "\n",
    "### 範例輸出：\n",
    "![image](week4-1.png)\n",
    "\n",
    "### Hint：\n",
    "* 需要先寫一個輸入數字會印出對應長度bar的function"
   ]
  },
  {
   "cell_type": "code",
   "execution_count": 9,
   "metadata": {
    "collapsed": true
   },
   "outputs": [],
   "source": [
    "from ipywidgets import interact"
   ]
  },
  {
   "cell_type": "code",
   "execution_count": 11,
   "metadata": {
    "collapsed": true
   },
   "outputs": [],
   "source": [
    "def change_length(num):\n",
    "    bar = \"■\"\n",
    "    result = bar*num\n",
    "    \n",
    "    print(result)"
   ]
  },
  {
   "cell_type": "code",
   "execution_count": 13,
   "metadata": {
    "collapsed": false
   },
   "outputs": [
    {
     "name": "stdout",
     "output_type": "stream",
     "text": [
      "■■■■■■■■■■■■■■■■■■■■■■■■■■■■■■■■\n"
     ]
    }
   ],
   "source": [
    "interact(change_length, num=(10,50))"
   ]
  },
  {
   "cell_type": "markdown",
   "metadata": {},
   "source": [
    "## 第三題 考試加權分數\n",
    "\n",
    "題目說明：   \n",
    "小明今年考大學   \n",
    "依照 [國, 英, 數甲, 數乙, 物, 化, 生, 歷, 地, 公]   \n",
    "他的分數分別是 [86.5, 79.4, 88.2, 96.5, 86.3, 76.8, 96.1, 78.5, 82.4, 88.6]   \n",
    "而他所想申請的大學各系採計的科目權重分別是   \n",
    "{   \n",
    "\"土語系\": [2, 2, 0, 1, 0, 0, 0, 1, 1, 0],   \n",
    "\"財政系\": [1, 1.5, 0, 1.5, 0, 0, 0, 0, 0, 0],   \n",
    "\"金融系\": [1, 1.5, 0, 2, 0, 0, 0, 0, 0, 0],    \n",
    "\"國貿系\": [1.5, 2, 0, 2, 0, 0, 0, 0, 0, 0],   \n",
    "\"會計系\": [1.5, 2, 0, 2, 0, 0, 0, 1, 1, 0],    \n",
    "\"法律系\": [1, 2, 0, 1, 0, 0, 0, 1, 0, 1],   \n",
    "\"公行系\": [1, 1.5, 0, 1.25, 0, 0, 0, 0, 0, 1.25],   \n",
    "\"應數系\": [1, 1, 1.5, 0, 1, 1, 0, 0, 0, 0],   \n",
    "\"教育系\": [1.5, 2, 0, 1.25, 0, 0, 0, 1, 1, 0]   \n",
    "}    \n",
    "\n",
    "請幫他做出一個互動介面   \n",
    "讓他在選擇科系後可以看到他的加權分數   \n",
    "取到小數點後第一位   \n",
    "\n",
    "### 範例輸出\n",
    "![image](week4-2.png)\n",
    "\n",
    "### Hint：\n",
    "* 需要先寫出一個函數 輸入某個科系的名稱後 會告訴你分數是多少\n",
    "* 用 numpy array 可以快速的算出加權分數\n",
    "* 如何只顯示到小數點第一位可以參考影片 0407 互動範例BMI計算器\n",
    "* 可以用 interact"
   ]
  },
  {
   "cell_type": "code",
   "execution_count": 14,
   "metadata": {
    "collapsed": true
   },
   "outputs": [],
   "source": [
    "import numpy as np \n",
    "from ipywidgets import interact"
   ]
  },
  {
   "cell_type": "code",
   "execution_count": 21,
   "metadata": {
    "collapsed": true
   },
   "outputs": [],
   "source": [
    "department_list = [\"土語系\", \"財政系\", \"金融系\", \"國貿系\", \"會計系\", \"法律系\", \"公行系\", \"應數系\", \"教育系\"]"
   ]
  },
  {
   "cell_type": "code",
   "execution_count": 27,
   "metadata": {
    "collapsed": true
   },
   "outputs": [],
   "source": [
    "def grade_cal(department):\n",
    "    score = [86.5, 79.4, 88.2, 96.5, 86.3, 76.8, 96.1, 78.5, 82.4, 88.6]\n",
    "    weight_dict = {\n",
    "        \"土語系\": [2, 2, 0, 1, 0, 0, 0, 1, 1, 0],\n",
    "        \"財政系\": [1, 1.5, 0, 1.5, 0, 0, 0, 0, 0, 0],\n",
    "        \"金融系\": [1, 1.5, 0, 2, 0, 0, 0, 0, 0, 0],\n",
    "        \"國貿系\": [1.5, 2, 0, 2, 0, 0, 0, 0, 0, 0],\n",
    "        \"會計系\": [1.5, 2, 0, 2, 0, 0, 0, 1, 1, 0],\n",
    "        \"法律系\": [1, 2, 0, 1, 0, 0, 0, 1, 0, 1],\n",
    "        \"公行系\": [1, 1.5, 0, 1.25, 0, 0, 0, 0, 0, 1.25],\n",
    "        \"應數系\": [1, 1, 1.5, 0, 1, 1, 0, 0, 0, 0],\n",
    "        \"教育系\": [1.5, 2, 0, 1.25, 0, 0, 0, 1, 1, 0]\n",
    "    }\n",
    "    \n",
    "    score = np.array(score)\n",
    "    weight = np.array(weight_dict[department])\n",
    "    result = score * weight\n",
    "    final_result = sum(result) / sum(weight)\n",
    "    \n",
    "    print(\"{:.1f}\".format(final_result))"
   ]
  },
  {
   "cell_type": "code",
   "execution_count": 28,
   "metadata": {
    "collapsed": false
   },
   "outputs": [
    {
     "name": "stdout",
     "output_type": "stream",
     "text": [
      "84.2\n"
     ]
    },
    {
     "data": {
      "text/plain": [
       "<function __main__.grade_cal>"
      ]
     },
     "execution_count": 28,
     "metadata": {},
     "output_type": "execute_result"
    }
   ],
   "source": [
    "interact(grade_cal, department=department_list)"
   ]
  },
  {
   "cell_type": "code",
   "execution_count": null,
   "metadata": {
    "collapsed": true
   },
   "outputs": [],
   "source": []
  }
 ],
 "metadata": {
  "kernelspec": {
   "display_name": "Python 3",
   "language": "python",
   "name": "python3"
  },
  "language_info": {
   "codemirror_mode": {
    "name": "ipython",
    "version": 3
   },
   "file_extension": ".py",
   "mimetype": "text/x-python",
   "name": "python",
   "nbconvert_exporter": "python",
   "pygments_lexer": "ipython3",
   "version": "3.6.0"
  },
  "widgets": {
   "state": {
    "a71ec5fddca24c6c94386904a8b21e61": {
     "views": [
      {
       "cell_index": 7
      }
     ]
    },
    "f5afa4d07be14886ba06ef3d06965542": {
     "views": [
      {
       "cell_index": 12
      }
     ]
    },
    "f6a93c15f98d4fd4a5b97ac0c35f9a44": {
     "views": [
      {
       "cell_index": 3
      }
     ]
    }
   },
   "version": "1.2.0"
  }
 },
 "nbformat": 4,
 "nbformat_minor": 2
}
